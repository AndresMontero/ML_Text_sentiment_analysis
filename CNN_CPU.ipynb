{
 "cells": [
  {
   "cell_type": "markdown",
   "metadata": {},
   "source": [
    "# Sentiment Analysis by Convolutional Neural Nets (CNN)\n",
    "Inspired by [Bentrevett - ConvolutionalSentiment Analysis](https://github.com/bentrevett/pytorch-sentiment-analysis/blob/master/4%20-%20Convolutional%20Sentiment%20Analysis.ipynb) and the exercises of the class [Data and Artificial Intelligence for Transportation](https://edu.epfl.ch/coursebook/en/data-and-artificial-intelligence-for-transportation-CIVIL-459) <br/>Cells that need user input have a <font color='blue'> blue title</font>"
   ]
  },
  {
   "cell_type": "markdown",
   "metadata": {},
   "source": [
    "### I) Imports"
   ]
  },
  {
   "cell_type": "code",
   "execution_count": 1,
   "metadata": {},
   "outputs": [],
   "source": [
    "import numpy as np\n",
    "import pickle\n",
    "import time\n",
    "\n",
    "import torch\n",
    "from torch import optim\n",
    "from torch.autograd import Variable\n",
    "import torch.utils.data as utils\n",
    "\n",
    "from helpers import *\n",
    "from cnns import *\n",
    "\n",
    "%load_ext autoreload\n",
    "%autoreload 2"
   ]
  },
  {
   "cell_type": "markdown",
   "metadata": {},
   "source": [
    "### II) Load Data and Word Embeddings"
   ]
  },
  {
   "cell_type": "markdown",
   "metadata": {},
   "source": [
    "#### <font color='blue'> Specify file paths here:</font>"
   ]
  },
  {
   "cell_type": "code",
   "execution_count": 2,
   "metadata": {},
   "outputs": [],
   "source": [
    "# Specify paths to data and embeddings\n",
    "path_embeddings = 'embeddings/embeddings200_pretrained.npy'\n",
    "path_vocab = 'embeddings/vocab_pretrained.pkl'\n",
    "path_train_pos = 'data/train_pos.txt'\n",
    "path_train_neg = 'data/train_neg.txt'\n",
    "path_test = 'data/test_data.txt'\n",
    "\n",
    "# Specify paths for savefiles\n",
    "net_filename = 'firstnet.pt'\n",
    "stats_filename = 'stats_firstnet'\n",
    "submission_filename = 'submission_firstnet.csv'"
   ]
  },
  {
   "cell_type": "markdown",
   "metadata": {},
   "source": [
    "#### Prepare embeddings"
   ]
  },
  {
   "cell_type": "code",
   "execution_count": 3,
   "metadata": {},
   "outputs": [],
   "source": [
    "# load word embeddings\n",
    "embeddings = np.load(path_embeddings)\n",
    "# add line of zeroes to the embeddings for empty words\n",
    "embeddings = np.append(np.zeros((1, embeddings.shape[1])), embeddings, axis=0)\n",
    "# load vocabulary\n",
    "with open(path_vocab, 'rb') as f:\n",
    "    vocab = pickle.load(f)"
   ]
  },
  {
   "cell_type": "markdown",
   "metadata": {},
   "source": [
    "#### Find maximal tweet length"
   ]
  },
  {
   "cell_type": "code",
   "execution_count": 4,
   "metadata": {},
   "outputs": [
    {
     "name": "stdout",
     "output_type": "stream",
     "text": [
      "Longest tweet has 64 words\n"
     ]
    }
   ],
   "source": [
    "longest = 0\n",
    "for file in [path_train_pos, path_train_neg, path_test]:\n",
    "    with open(file) as f:\n",
    "        for line in f:\n",
    "            length = len(line.strip().split())\n",
    "            if length > longest:\n",
    "                longest = length          \n",
    "print(\"Longest tweet has {:d} words\".format(longest))"
   ]
  },
  {
   "cell_type": "markdown",
   "metadata": {},
   "source": [
    "#### Prepare training and test features"
   ]
  },
  {
   "cell_type": "code",
   "execution_count": 5,
   "metadata": {},
   "outputs": [],
   "source": [
    "'''\n",
    "For each tweet we create an array containing the indexes of the words in\n",
    "the word embedding matrix. All of these vectors have equal length equivalent\n",
    "to the number of words in the longest tweet. If a tweet doesn't fill everything,\n",
    "we pad with 0. this index corresponds to the embedding [0, 0, 0, ... 0, 0].\n",
    "\n",
    "Data type is int32 in order to minimize memory usage.\n",
    "\n",
    "For the labels, we use the value 0 for negative tweets and 1 for positive tweets.\n",
    "'''\n",
    "\n",
    "#initiate empty feature and label lists\n",
    "x = []\n",
    "y = []\n",
    "\n",
    "# process positive tweets\n",
    "with open(path_train_pos) as f:\n",
    "    for line in f:\n",
    "        tweet = np.int32(np.zeros((longest)))\n",
    "        wordcount = 0\n",
    "        y.append(1)\n",
    "        for word in line.strip().split():\n",
    "            index = vocab.get(word, -1);\n",
    "            # skip words for which we have no embedding\n",
    "            if(index != -1):\n",
    "                tweet[wordcount] = index + 1\n",
    "                wordcount += 1\n",
    "        x.append(tweet)\n",
    "\n",
    "# process negative tweets\n",
    "with open(path_train_neg) as f:\n",
    "    for line in f:\n",
    "        tweet = np.int32(np.zeros((longest)))\n",
    "        wordcount = 0\n",
    "        y.append(0)\n",
    "        for word in line.strip().split():\n",
    "            index = vocab.get(word, -1);\n",
    "            # skip words for which we have no embedding\n",
    "            if(index != -1):\n",
    "                tweet[wordcount] = index + 1\n",
    "                wordcount += 1\n",
    "        x.append(tweet)\n",
    "        \n",
    "x_train = np.asarray(x)\n",
    "y_train = np.asarray(y)\n",
    " \n",
    "# Shuffle tweets\n",
    "x_train, y_train = shuffle(x_train, y_train)\n",
    "\n",
    "# We proceed process test tweets in the same way as the training tweets\n",
    "x = []\n",
    "\n",
    "with open(path_test) as f:\n",
    "    for line in f:\n",
    "        tweet = np.int32(np.zeros((longest)))\n",
    "        wordcount = 0\n",
    "        # filter out the IDs and first comma\n",
    "        line_bare = line[(line.index(\",\")+1):]\n",
    "        for word in line_bare.strip().split():\n",
    "            index = vocab.get(word, -1);\n",
    "            # skip words for which we have no embedding\n",
    "            if(index != -1):\n",
    "                tweet[wordcount] = index + 1\n",
    "                wordcount += 1\n",
    "        x.append(tweet)\n",
    "        \n",
    "x_test = np.asarray(x)"
   ]
  },
  {
   "cell_type": "markdown",
   "metadata": {},
   "source": [
    "### III) Train Model"
   ]
  },
  {
   "cell_type": "markdown",
   "metadata": {},
   "source": [
    "#### <font color='blue'> Specify Hyperparameters here</font>"
   ]
  },
  {
   "cell_type": "code",
   "execution_count": 6,
   "metadata": {},
   "outputs": [],
   "source": [
    "# specify seed for random weight initialisation\n",
    "torch.manual_seed(1234)\n",
    "# number of channels\n",
    "n_channels = 64\n",
    "# dropout probability (use zero for no dropout)\n",
    "dropout_prob = 0.0\n",
    "# specify the net you want to use\n",
    "net = SimpleConvNet(torch.from_numpy(embeddings).float(), n_channels, dropout_prob)\n",
    "# decide how many training tweets to use for validation\n",
    "val_prop = 10000\n",
    "batch_size = 1024\n",
    "epochs = 5\n",
    "# defines after how many batches loss and accuracy are displayed\n",
    "print_every = 5\n",
    "# choose optimizer (Adam does fine most of the time)\n",
    "optimizer = torch.optim.Adam(net.parameters())"
   ]
  },
  {
   "cell_type": "markdown",
   "metadata": {},
   "source": [
    "#### Train the net"
   ]
  },
  {
   "cell_type": "code",
   "execution_count": 7,
   "metadata": {
    "scrolled": false
   },
   "outputs": [
    {
     "name": "stdout",
     "output_type": "stream",
     "text": [
      "Epoch 1 / 5\t Loss 0.6597\t Validation accuracy 0.6581\t 0.2949 s/batch\n",
      "Epoch 1 / 5\t Loss 0.5980\t Validation accuracy 0.6704\t 0.2803 s/batch\n",
      "Epoch 1 / 5\t Loss 0.5744\t Validation accuracy 0.6844\t 0.2147 s/batch\n",
      "Epoch 1 / 5\t Loss 0.5422\t Validation accuracy 0.7019\t 0.2530 s/batch\n",
      "Epoch 1 / 5\t Loss 0.5246\t Validation accuracy 0.7192\t 0.2287 s/batch\n",
      "Epoch 1 / 5\t Loss 0.5103\t Validation accuracy 0.7344\t 0.2586 s/batch\n",
      "Epoch 1 / 5\t Loss 0.5008\t Validation accuracy 0.7456\t 0.2718 s/batch\n",
      "Epoch 1 / 5\t Loss 0.4778\t Validation accuracy 0.7572\t 0.3635 s/batch\n",
      "Epoch 1 / 5\t Loss 0.4668\t Validation accuracy 0.7634\t 0.3247 s/batch\n",
      "Epoch 1 / 5\t Loss 0.4517\t Validation accuracy 0.7685\t 0.4367 s/batch\n",
      "Epoch 1 / 5\t Loss 0.4617\t Validation accuracy 0.7752\t 0.4712 s/batch\n",
      "Epoch 1 / 5\t Loss 0.4402\t Validation accuracy 0.7818\t 0.2721 s/batch\n",
      "Epoch 1 / 5\t Loss 0.4436\t Validation accuracy 0.7848\t 0.2903 s/batch\n",
      "Epoch 1 / 5\t Loss 0.4282\t Validation accuracy 0.7901\t 0.2848 s/batch\n",
      "Epoch 1 / 5\t Loss 0.4345\t Validation accuracy 0.7934\t 0.3177 s/batch\n",
      "Epoch 1 / 5\t Loss 0.4160\t Validation accuracy 0.7978\t 0.3287 s/batch\n",
      "Epoch 1 / 5\t Loss 0.4202\t Validation accuracy 0.8009\t 0.2967 s/batch\n",
      "Epoch 1 / 5\t Loss 0.4167\t Validation accuracy 0.8025\t 0.2863 s/batch\n",
      "Epoch 1 / 5\t Loss 0.4065\t Validation accuracy 0.8030\t 0.2191 s/batch\n",
      "Epoch 1 / 5\t Loss 0.4222\t Validation accuracy 0.8043\t 0.2619 s/batch\n",
      "Epoch 1 / 5\t Loss 0.4115\t Validation accuracy 0.8043\t 0.2221 s/batch\n",
      "Epoch 1 / 5\t Loss 0.4034\t Validation accuracy 0.8072\t 0.3251 s/batch\n",
      "Epoch 1 / 5\t Loss 0.3916\t Validation accuracy 0.8075\t 0.2259 s/batch\n",
      "Epoch 1 / 5\t Loss 0.3884\t Validation accuracy 0.8082\t 0.2406 s/batch\n",
      "Epoch 1 / 5\t Loss 0.3956\t Validation accuracy 0.8069\t 0.2127 s/batch\n",
      "Epoch 1 / 5\t Loss 0.3984\t Validation accuracy 0.8117\t 0.2139 s/batch\n",
      "Epoch 1 / 5\t Loss 0.3977\t Validation accuracy 0.8084\t 0.2139 s/batch\n",
      "Epoch 1 / 5\t Loss 0.3925\t Validation accuracy 0.8078\t 0.2163 s/batch\n",
      "Epoch 1 / 5\t Loss 0.3927\t Validation accuracy 0.8117\t 0.2198 s/batch\n",
      "Epoch 1 / 5\t Loss 0.3908\t Validation accuracy 0.8052\t 0.2233 s/batch\n",
      "Epoch 1 / 5\t Loss 0.3883\t Validation accuracy 0.8124\t 0.2244 s/batch\n",
      "Epoch 1 / 5\t Loss 0.3886\t Validation accuracy 0.8066\t 0.2220 s/batch\n",
      "Epoch 1 / 5\t Loss 0.3913\t Validation accuracy 0.8135\t 0.2148 s/batch\n",
      "Epoch 1 / 5\t Loss 0.3834\t Validation accuracy 0.8137\t 0.2146 s/batch\n",
      "Epoch 1 / 5\t Loss 0.3838\t Validation accuracy 0.8145\t 0.2203 s/batch\n",
      "Epoch 1 / 5\t Loss 0.3789\t Validation accuracy 0.8152\t 0.2142 s/batch\n",
      "Epoch 1 / 5\t Loss 0.3897\t Validation accuracy 0.8104\t 0.2171 s/batch\n",
      "Epoch 2 / 5\t Loss 0.4080\t Validation accuracy 0.8167\t 0.1968 s/batch\n",
      "Epoch 2 / 5\t Loss 0.3785\t Validation accuracy 0.8134\t 0.2257 s/batch\n",
      "Epoch 2 / 5\t Loss 0.3854\t Validation accuracy 0.8135\t 0.2138 s/batch\n",
      "Epoch 2 / 5\t Loss 0.3811\t Validation accuracy 0.8191\t 0.2150 s/batch\n",
      "Epoch 2 / 5\t Loss 0.3726\t Validation accuracy 0.8168\t 0.2175 s/batch\n",
      "Epoch 2 / 5\t Loss 0.3802\t Validation accuracy 0.8189\t 0.2246 s/batch\n",
      "Epoch 2 / 5\t Loss 0.3725\t Validation accuracy 0.8200\t 0.2476 s/batch\n",
      "Epoch 2 / 5\t Loss 0.3681\t Validation accuracy 0.8183\t 0.2320 s/batch\n",
      "Epoch 2 / 5\t Loss 0.3726\t Validation accuracy 0.8216\t 0.2207 s/batch\n",
      "Epoch 2 / 5\t Loss 0.3650\t Validation accuracy 0.8200\t 0.2218 s/batch\n",
      "Epoch 2 / 5\t Loss 0.3840\t Validation accuracy 0.8194\t 0.2211 s/batch\n",
      "Epoch 2 / 5\t Loss 0.3642\t Validation accuracy 0.8160\t 0.2192 s/batch\n",
      "Epoch 2 / 5\t Loss 0.3754\t Validation accuracy 0.8186\t 0.2145 s/batch\n",
      "Epoch 2 / 5\t Loss 0.3618\t Validation accuracy 0.8201\t 0.2295 s/batch\n",
      "Epoch 2 / 5\t Loss 0.3800\t Validation accuracy 0.8207\t 0.2279 s/batch\n",
      "Epoch 2 / 5\t Loss 0.3707\t Validation accuracy 0.8199\t 0.2352 s/batch\n",
      "Epoch 2 / 5\t Loss 0.3711\t Validation accuracy 0.8192\t 0.2295 s/batch\n",
      "Epoch 2 / 5\t Loss 0.3715\t Validation accuracy 0.8206\t 0.2186 s/batch\n",
      "Epoch 2 / 5\t Loss 0.3617\t Validation accuracy 0.8196\t 0.2195 s/batch\n",
      "Epoch 2 / 5\t Loss 0.3802\t Validation accuracy 0.8226\t 0.2138 s/batch\n",
      "Epoch 2 / 5\t Loss 0.3729\t Validation accuracy 0.8204\t 0.2318 s/batch\n",
      "Epoch 2 / 5\t Loss 0.3677\t Validation accuracy 0.8256\t 0.2277 s/batch\n",
      "Epoch 2 / 5\t Loss 0.3578\t Validation accuracy 0.8212\t 0.2301 s/batch\n",
      "Epoch 2 / 5\t Loss 0.3574\t Validation accuracy 0.8245\t 0.2232 s/batch\n",
      "Epoch 2 / 5\t Loss 0.3628\t Validation accuracy 0.8229\t 0.2133 s/batch\n",
      "Epoch 2 / 5\t Loss 0.3658\t Validation accuracy 0.8244\t 0.2242 s/batch\n",
      "Epoch 2 / 5\t Loss 0.3691\t Validation accuracy 0.8237\t 0.2290 s/batch\n",
      "Epoch 2 / 5\t Loss 0.3721\t Validation accuracy 0.8198\t 0.2328 s/batch\n",
      "Epoch 2 / 5\t Loss 0.3630\t Validation accuracy 0.8258\t 0.2212 s/batch\n",
      "Epoch 2 / 5\t Loss 0.3603\t Validation accuracy 0.8166\t 0.2673 s/batch\n",
      "Epoch 2 / 5\t Loss 0.3670\t Validation accuracy 0.8262\t 0.2180 s/batch\n",
      "Epoch 2 / 5\t Loss 0.3541\t Validation accuracy 0.8223\t 0.2301 s/batch\n",
      "Epoch 2 / 5\t Loss 0.3704\t Validation accuracy 0.8271\t 0.2276 s/batch\n",
      "Epoch 2 / 5\t Loss 0.3554\t Validation accuracy 0.8259\t 0.2282 s/batch\n",
      "Epoch 2 / 5\t Loss 0.3598\t Validation accuracy 0.8259\t 0.2295 s/batch\n",
      "Epoch 2 / 5\t Loss 0.3506\t Validation accuracy 0.8258\t 0.2198 s/batch\n",
      "Epoch 2 / 5\t Loss 0.3659\t Validation accuracy 0.8237\t 0.2261 s/batch\n",
      "Epoch 3 / 5\t Loss 0.3789\t Validation accuracy 0.8255\t 0.2178 s/batch\n",
      "Epoch 3 / 5\t Loss 0.3645\t Validation accuracy 0.8245\t 0.2161 s/batch\n",
      "Epoch 3 / 5\t Loss 0.3672\t Validation accuracy 0.8273\t 0.2141 s/batch\n",
      "Epoch 3 / 5\t Loss 0.3543\t Validation accuracy 0.8282\t 0.2268 s/batch\n",
      "Epoch 3 / 5\t Loss 0.3515\t Validation accuracy 0.8265\t 0.2141 s/batch\n",
      "Epoch 3 / 5\t Loss 0.3602\t Validation accuracy 0.8274\t 0.2485 s/batch\n",
      "Epoch 3 / 5\t Loss 0.3503\t Validation accuracy 0.8271\t 0.2204 s/batch\n",
      "Epoch 3 / 5\t Loss 0.3453\t Validation accuracy 0.8256\t 0.2256 s/batch\n",
      "Epoch 3 / 5\t Loss 0.3565\t Validation accuracy 0.8305\t 0.2174 s/batch\n",
      "Epoch 3 / 5\t Loss 0.3444\t Validation accuracy 0.8295\t 0.2170 s/batch\n",
      "Epoch 3 / 5\t Loss 0.3584\t Validation accuracy 0.8275\t 0.2173 s/batch\n",
      "Epoch 3 / 5\t Loss 0.3515\t Validation accuracy 0.8280\t 0.2244 s/batch\n",
      "Epoch 3 / 5\t Loss 0.3500\t Validation accuracy 0.8281\t 0.2154 s/batch\n",
      "Epoch 3 / 5\t Loss 0.3515\t Validation accuracy 0.8294\t 0.2473 s/batch\n",
      "Epoch 3 / 5\t Loss 0.3639\t Validation accuracy 0.8283\t 0.2143 s/batch\n",
      "Epoch 3 / 5\t Loss 0.3501\t Validation accuracy 0.8289\t 0.2190 s/batch\n",
      "Epoch 3 / 5\t Loss 0.3522\t Validation accuracy 0.8266\t 0.2160 s/batch\n",
      "Epoch 3 / 5\t Loss 0.3475\t Validation accuracy 0.8284\t 0.2182 s/batch\n",
      "Epoch 3 / 5\t Loss 0.3485\t Validation accuracy 0.8277\t 0.2173 s/batch\n",
      "Epoch 3 / 5\t Loss 0.3651\t Validation accuracy 0.8307\t 0.2205 s/batch\n",
      "Epoch 3 / 5\t Loss 0.3493\t Validation accuracy 0.8284\t 0.2294 s/batch\n",
      "Epoch 3 / 5\t Loss 0.3562\t Validation accuracy 0.8294\t 0.2226 s/batch\n",
      "Epoch 3 / 5\t Loss 0.3400\t Validation accuracy 0.8305\t 0.2206 s/batch\n",
      "Epoch 3 / 5\t Loss 0.3416\t Validation accuracy 0.8307\t 0.2194 s/batch\n",
      "Epoch 3 / 5\t Loss 0.3477\t Validation accuracy 0.8316\t 0.2174 s/batch\n",
      "Epoch 3 / 5\t Loss 0.3559\t Validation accuracy 0.8317\t 0.2192 s/batch\n",
      "Epoch 3 / 5\t Loss 0.3434\t Validation accuracy 0.8313\t 0.2310 s/batch\n",
      "Epoch 3 / 5\t Loss 0.3587\t Validation accuracy 0.8240\t 0.2233 s/batch\n",
      "Epoch 3 / 5\t Loss 0.3490\t Validation accuracy 0.8304\t 0.2224 s/batch\n",
      "Epoch 3 / 5\t Loss 0.3421\t Validation accuracy 0.8233\t 0.2334 s/batch\n",
      "Epoch 3 / 5\t Loss 0.3567\t Validation accuracy 0.8311\t 0.2268 s/batch\n",
      "Epoch 3 / 5\t Loss 0.3369\t Validation accuracy 0.8282\t 0.2203 s/batch\n",
      "Epoch 3 / 5\t Loss 0.3511\t Validation accuracy 0.8302\t 0.2273 s/batch\n",
      "Epoch 3 / 5\t Loss 0.3486\t Validation accuracy 0.8325\t 0.2377 s/batch\n",
      "Epoch 3 / 5\t Loss 0.3420\t Validation accuracy 0.8313\t 0.2234 s/batch\n",
      "Epoch 3 / 5\t Loss 0.3379\t Validation accuracy 0.8305\t 0.2175 s/batch\n",
      "Epoch 3 / 5\t Loss 0.3486\t Validation accuracy 0.8310\t 0.2222 s/batch\n",
      "Epoch 4 / 5\t Loss 0.3575\t Validation accuracy 0.8304\t 0.1992 s/batch\n",
      "Epoch 4 / 5\t Loss 0.3513\t Validation accuracy 0.8306\t 0.2302 s/batch\n",
      "Epoch 4 / 5\t Loss 0.3552\t Validation accuracy 0.8308\t 0.2164 s/batch\n",
      "Epoch 4 / 5\t Loss 0.3414\t Validation accuracy 0.8309\t 0.2203 s/batch\n",
      "Epoch 4 / 5\t Loss 0.3395\t Validation accuracy 0.8292\t 0.2326 s/batch\n",
      "Epoch 4 / 5\t Loss 0.3483\t Validation accuracy 0.8320\t 0.2171 s/batch\n",
      "Epoch 4 / 5\t Loss 0.3409\t Validation accuracy 0.8310\t 0.2207 s/batch\n",
      "Epoch 4 / 5\t Loss 0.3352\t Validation accuracy 0.8284\t 0.2463 s/batch\n"
     ]
    },
    {
     "name": "stdout",
     "output_type": "stream",
     "text": [
      "Epoch 4 / 5\t Loss 0.3381\t Validation accuracy 0.8321\t 0.2356 s/batch\n",
      "Epoch 4 / 5\t Loss 0.3354\t Validation accuracy 0.8312\t 0.2251 s/batch\n",
      "Epoch 4 / 5\t Loss 0.3397\t Validation accuracy 0.8306\t 0.2174 s/batch\n",
      "Epoch 4 / 5\t Loss 0.3397\t Validation accuracy 0.8326\t 0.2171 s/batch\n",
      "Epoch 4 / 5\t Loss 0.3384\t Validation accuracy 0.8297\t 0.2195 s/batch\n",
      "Epoch 4 / 5\t Loss 0.3391\t Validation accuracy 0.8321\t 0.2224 s/batch\n",
      "Epoch 4 / 5\t Loss 0.3456\t Validation accuracy 0.8296\t 0.2231 s/batch\n",
      "Epoch 4 / 5\t Loss 0.3492\t Validation accuracy 0.8303\t 0.2180 s/batch\n",
      "Epoch 4 / 5\t Loss 0.3312\t Validation accuracy 0.8308\t 0.2260 s/batch\n",
      "Epoch 4 / 5\t Loss 0.3415\t Validation accuracy 0.8309\t 0.2227 s/batch\n",
      "Epoch 4 / 5\t Loss 0.3396\t Validation accuracy 0.8318\t 0.2181 s/batch\n",
      "Epoch 4 / 5\t Loss 0.3414\t Validation accuracy 0.8325\t 0.2222 s/batch\n",
      "Epoch 4 / 5\t Loss 0.3455\t Validation accuracy 0.8325\t 0.2159 s/batch\n",
      "Epoch 4 / 5\t Loss 0.3439\t Validation accuracy 0.8335\t 0.2208 s/batch\n",
      "Epoch 4 / 5\t Loss 0.3221\t Validation accuracy 0.8341\t 0.2195 s/batch\n",
      "Epoch 4 / 5\t Loss 0.3346\t Validation accuracy 0.8331\t 0.2144 s/batch\n",
      "Epoch 4 / 5\t Loss 0.3285\t Validation accuracy 0.8342\t 0.2210 s/batch\n",
      "Epoch 4 / 5\t Loss 0.3478\t Validation accuracy 0.8321\t 0.2242 s/batch\n",
      "Epoch 4 / 5\t Loss 0.3380\t Validation accuracy 0.8331\t 0.2210 s/batch\n",
      "Epoch 4 / 5\t Loss 0.3424\t Validation accuracy 0.8277\t 0.2217 s/batch\n",
      "Epoch 4 / 5\t Loss 0.3362\t Validation accuracy 0.8314\t 0.2191 s/batch\n",
      "Epoch 4 / 5\t Loss 0.3383\t Validation accuracy 0.8308\t 0.2162 s/batch\n",
      "Epoch 4 / 5\t Loss 0.3416\t Validation accuracy 0.8328\t 0.2202 s/batch\n",
      "Epoch 4 / 5\t Loss 0.3281\t Validation accuracy 0.8334\t 0.2224 s/batch\n",
      "Epoch 4 / 5\t Loss 0.3356\t Validation accuracy 0.8326\t 0.2130 s/batch\n",
      "Epoch 4 / 5\t Loss 0.3320\t Validation accuracy 0.8345\t 0.2266 s/batch\n",
      "Epoch 4 / 5\t Loss 0.3350\t Validation accuracy 0.8333\t 0.2318 s/batch\n",
      "Epoch 4 / 5\t Loss 0.3253\t Validation accuracy 0.8335\t 0.2133 s/batch\n",
      "Epoch 4 / 5\t Loss 0.3408\t Validation accuracy 0.8338\t 0.2188 s/batch\n",
      "Epoch 5 / 5\t Loss 0.3394\t Validation accuracy 0.8349\t 0.2038 s/batch\n",
      "Epoch 5 / 5\t Loss 0.3451\t Validation accuracy 0.8339\t 0.2356 s/batch\n",
      "Epoch 5 / 5\t Loss 0.3422\t Validation accuracy 0.8326\t 0.2198 s/batch\n",
      "Epoch 5 / 5\t Loss 0.3294\t Validation accuracy 0.8325\t 0.2272 s/batch\n",
      "Epoch 5 / 5\t Loss 0.3325\t Validation accuracy 0.8327\t 0.2314 s/batch\n",
      "Epoch 5 / 5\t Loss 0.3359\t Validation accuracy 0.8336\t 0.2318 s/batch\n",
      "Epoch 5 / 5\t Loss 0.3326\t Validation accuracy 0.8324\t 0.2150 s/batch\n",
      "Epoch 5 / 5\t Loss 0.3316\t Validation accuracy 0.8322\t 0.2216 s/batch\n",
      "Epoch 5 / 5\t Loss 0.3245\t Validation accuracy 0.8320\t 0.2313 s/batch\n",
      "Epoch 5 / 5\t Loss 0.3329\t Validation accuracy 0.8353\t 0.2200 s/batch\n",
      "Epoch 5 / 5\t Loss 0.3177\t Validation accuracy 0.8331\t 0.2132 s/batch\n",
      "Epoch 5 / 5\t Loss 0.3404\t Validation accuracy 0.8350\t 0.2273 s/batch\n",
      "Epoch 5 / 5\t Loss 0.3217\t Validation accuracy 0.8288\t 0.2176 s/batch\n",
      "Epoch 5 / 5\t Loss 0.3339\t Validation accuracy 0.8332\t 0.2241 s/batch\n",
      "Epoch 5 / 5\t Loss 0.3333\t Validation accuracy 0.8336\t 0.2151 s/batch\n",
      "Epoch 5 / 5\t Loss 0.3395\t Validation accuracy 0.8318\t 0.2201 s/batch\n",
      "Epoch 5 / 5\t Loss 0.3233\t Validation accuracy 0.8333\t 0.2134 s/batch\n",
      "Epoch 5 / 5\t Loss 0.3299\t Validation accuracy 0.8330\t 0.2223 s/batch\n",
      "Epoch 5 / 5\t Loss 0.3263\t Validation accuracy 0.8336\t 0.2201 s/batch\n",
      "Epoch 5 / 5\t Loss 0.3265\t Validation accuracy 0.8336\t 0.2312 s/batch\n",
      "Epoch 5 / 5\t Loss 0.3413\t Validation accuracy 0.8329\t 0.2220 s/batch\n",
      "Epoch 5 / 5\t Loss 0.3314\t Validation accuracy 0.8328\t 0.2229 s/batch\n",
      "Epoch 5 / 5\t Loss 0.3199\t Validation accuracy 0.8356\t 0.2163 s/batch\n",
      "Epoch 5 / 5\t Loss 0.3259\t Validation accuracy 0.8353\t 0.2215 s/batch\n",
      "Epoch 5 / 5\t Loss 0.3174\t Validation accuracy 0.8315\t 0.2327 s/batch\n",
      "Epoch 5 / 5\t Loss 0.3289\t Validation accuracy 0.8332\t 0.2204 s/batch\n",
      "Epoch 5 / 5\t Loss 0.3298\t Validation accuracy 0.8328\t 0.2162 s/batch\n",
      "Epoch 5 / 5\t Loss 0.3420\t Validation accuracy 0.8321\t 0.2118 s/batch\n",
      "Epoch 5 / 5\t Loss 0.3254\t Validation accuracy 0.8333\t 0.2133 s/batch\n",
      "Epoch 5 / 5\t Loss 0.3239\t Validation accuracy 0.8317\t 0.2243 s/batch\n",
      "Epoch 5 / 5\t Loss 0.3330\t Validation accuracy 0.8330\t 0.2273 s/batch\n",
      "Epoch 5 / 5\t Loss 0.3219\t Validation accuracy 0.8343\t 0.2202 s/batch\n",
      "Epoch 5 / 5\t Loss 0.3198\t Validation accuracy 0.8329\t 0.2165 s/batch\n",
      "Epoch 5 / 5\t Loss 0.3273\t Validation accuracy 0.8342\t 0.2292 s/batch\n",
      "Epoch 5 / 5\t Loss 0.3227\t Validation accuracy 0.8339\t 0.2294 s/batch\n",
      "Epoch 5 / 5\t Loss 0.3175\t Validation accuracy 0.8346\t 0.2266 s/batch\n",
      "Epoch 5 / 5\t Loss 0.3327\t Validation accuracy 0.8347\t 0.2184 s/batch\n",
      "Epoch 5 / 5\t Loss 0.3244\t Validation accuracy 0.8353\t 0.2205 s/batch\n"
     ]
    },
    {
     "data": {
      "image/png": "[encoded data removed]",
      "text/plain": [
       "<Figure size 432x288 with 2 Axes>"
      ]
     },
     "metadata": {
      "needs_background": "light"
     },
     "output_type": "display_data"
    }
   ],
   "source": [
    "# Get loss criterion of the net and the target type it requires\n",
    "# We let the net class decide on its loss criterion and the type of the targets that this loss criterion requires\n",
    "# Not all nets are compatible with all available criterions\n",
    "\n",
    "criterion, target_type = net.get_criterion()\n",
    "\n",
    "# cut validation data from training data.\n",
    "# convert numpy arrays to torch tensors\n",
    "x_val_torch = torch.from_numpy(x_train[0:val_prop, :])\n",
    "y_val_torch = torch.from_numpy(y_train[0:val_prop]).float()\n",
    "x_train_torch = torch.from_numpy(x_train[val_prop + 1:, :])\n",
    "y_train_torch = torch.from_numpy(y_train[val_prop + 1:]).float()\n",
    "\n",
    "# create batch loaders\n",
    "train_set = utils.TensorDataset(x_train_torch, y_train_torch)\n",
    "train_loader = utils.DataLoader(train_set, batch_size, shuffle=False)\n",
    "val_set = utils.TensorDataset(x_val_torch, y_val_torch)\n",
    "val_loader = utils.DataLoader(val_set, batch_size, shuffle=False)\n",
    "\n",
    "# Lists and counters\n",
    "steps = 0\n",
    "running_loss = 0\n",
    "loss_list = []\n",
    "val_list = []\n",
    "start = time.time()\n",
    "\n",
    "# Iterate through all epochs, predict and backpropagate, update weights\n",
    "for e in range(epochs):\n",
    "    for tweets, labels in iter(train_loader):\n",
    "        steps += 1\n",
    "        # converting to Variable is necessary in order to compute the gradient later\n",
    "        inputs = Variable(tweets)\n",
    "        targets = Variable(labels.to(target_type))\n",
    "        # set gradient to zero\n",
    "        optimizer.zero_grad()\n",
    "        # forward inputs through the net\n",
    "        outputs = net.forward(inputs.long())\n",
    "        # compute loss and gradient\n",
    "        loss = criterion(outputs, targets)\n",
    "        loss.backward()\n",
    "        # update weights\n",
    "        optimizer.step()\n",
    "        running_loss += loss.item()\n",
    "        \n",
    "        # print loss and accuracy at fixed steps\n",
    "        if steps % print_every == 0:\n",
    "            stop = time.time()\n",
    "            accuracy = 0\n",
    "            n = 0\n",
    "            # net needs to be set in eval mode to not apply dropout during prediction\n",
    "            net.eval()\n",
    "            for tweets, labels in iter(val_loader):\n",
    "                predictions = net.predict(tweets.long())\n",
    "                accuracy += sum(predictions.data.numpy() == labels.data.numpy())\n",
    "                # we cannot use fixed increments of the counter as the last batch can be smaller.\n",
    "                n += labels.data.numpy().size\n",
    "            net.train()\n",
    "            \n",
    "            print(\"Epoch {} / {}\\t\".format(e+1, epochs),\n",
    "                  \"Loss {:.4f}\\t\".format(running_loss / print_every),\n",
    "                  \"Validation accuracy {:.4f}\\t\".format(accuracy / n),\n",
    "                  \"{:.4f} s/batch\".format((stop - start)/print_every))\n",
    "            \n",
    "            # append accuracy and loss to the list for plotting\n",
    "            loss_list.append(running_loss / print_every)\n",
    "            val_list.append(accuracy / n)\n",
    "            \n",
    "            running_loss = 0\n",
    "            start = time.time()\n",
    "            \n",
    "# plot loss and accuracy\n",
    "training_stats = np.column_stack((np.asarray(loss_list), np.asarray(val_list)))\n",
    "plot_val_acc(training_stats)\n",
    "\n",
    "#save net and stats\n",
    "torch.save(net, net_filename)\n",
    "np.save(stats_filename, training_stats)"
   ]
  },
  {
   "cell_type": "markdown",
   "metadata": {},
   "source": [
    "### IV) Evaluate model"
   ]
  },
  {
   "cell_type": "markdown",
   "metadata": {},
   "source": [
    "#### Test on local validation set"
   ]
  },
  {
   "cell_type": "code",
   "execution_count": 8,
   "metadata": {},
   "outputs": [
    {
     "name": "stdout",
     "output_type": "stream",
     "text": [
      "Accuracy on validation set: 0.8353\n"
     ]
    }
   ],
   "source": [
    "# Net needs to be set to eval mode, so it will not use dropout when predicting\n",
    "net.eval()\n",
    "accuracy = 0\n",
    "n = 0\n",
    "for tweets, labels in iter(val_loader):\n",
    "    predictions = net.predict(tweets.long())\n",
    "    accuracy += sum(predictions.data.numpy() == labels.data.numpy())\n",
    "    n += labels.data.numpy().size\n",
    "            \n",
    "print(\"Accuracy on validation set: {:.4f}\".format(accuracy / n))"
   ]
  },
  {
   "cell_type": "markdown",
   "metadata": {},
   "source": [
    "#### Create submission file for challenge"
   ]
  },
  {
   "cell_type": "code",
   "execution_count": 9,
   "metadata": {},
   "outputs": [],
   "source": [
    "# Compute preditions\n",
    "net.eval()\n",
    "# create a dataloader to iterate over the test data\n",
    "test_loader = utils.DataLoader(torch.from_numpy(x_test), batch_size, shuffle = False)\n",
    "submission_labels = np.zeros((0))\n",
    "for tweets in iter(test_loader):\n",
    "    predictions = net.predict(tweets.long())\n",
    "    #conversion from (0, 1) to (-1, 1)\n",
    "    labels = predictions.data.numpy() * 2 - 1\n",
    "    submission_labels = np.concatenate((submission_labels, labels), axis=0)\n",
    "    \n",
    "# we need to add IDs to meet the submission interface requirements\n",
    "ids = np.arange(len(submission_labels)) + 1\n",
    "create_csv_submission(ids, submission_labels, submission_filename)"
   ]
  }
 ],
 "metadata": {
  "kernelspec": {
   "display_name": "Python 3",
   "language": "python",
   "name": "python3"
  },
  "language_info": {
   "codemirror_mode": {
    "name": "ipython",
    "version": 3
   },
   "file_extension": ".py",
   "mimetype": "text/x-python",
   "name": "python",
   "nbconvert_exporter": "python",
   "pygments_lexer": "ipython3",
   "version": "3.6.6"
  }
 },
 "nbformat": 4,
 "nbformat_minor": 2
}
